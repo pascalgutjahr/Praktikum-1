{
 "cells": [
  {
   "cell_type": "code",
   "execution_count": 25,
   "metadata": {
    "collapsed": false
   },
   "outputs": [],
   "source": [
    "import sympy as sp\n",
    "from IPython.display import display, Math, Latex"
   ]
  },
  {
   "cell_type": "code",
   "execution_count": 26,
   "metadata": {
    "collapsed": false
   },
   "outputs": [],
   "source": [
    "s, M, p, N= sp.symbols('s M p N') #Variablennamen einsetzen 'd' ist reserviert\n",
    "variablen = [s,M,p,N]\n",
    "variablen_werte = [2.77e-29,9.27e-26,7860,2.687e25]\n",
    "fehler_werte = [0,0.0003e-26,0,0]"
   ]
  },
  {
   "cell_type": "code",
   "execution_count": 27,
   "metadata": {
    "collapsed": false
   },
   "outputs": [],
   "source": [
    "funktion = (26*N*p)/(M)*s"
   ]
  },
  {
   "cell_type": "code",
   "execution_count": 28,
   "metadata": {
    "collapsed": false
   },
   "outputs": [],
   "source": [
    "fehler = 0\n",
    "fehlersymbole =[]\n",
    "ableitungen_quadr = []\n",
    "\n",
    "for var in variablen:\n",
    "    d = sp.symbols('d' + var.name)\n",
    "    fehlersymbole.append(d)\n",
    "    partial = sp.diff(funktion, var) * d\n",
    "    ableitungen_quadr.append(partial**2)\n",
    "    fehler = fehler + partial**2\n",
    "    \n",
    "fehler_abs=sp.simplify(sp.sqrt(fehler))\n",
    "fehler_rel=sp.simplify(sp.sqrt(fehler/funktion**2))"
   ]
  },
  {
   "cell_type": "code",
   "execution_count": 29,
   "metadata": {
    "collapsed": true
   },
   "outputs": [],
   "source": [
    "funktions_wert=sp.Subs(funktion,variablen,variablen_werte).doit()\n",
    "err1=sp.Subs(fehler,variablen,variablen_werte).doit()\n",
    "err2=sp.Subs(err1,fehlersymbole,fehler_werte).doit()"
   ]
  },
  {
   "cell_type": "code",
   "execution_count": 30,
   "metadata": {
    "collapsed": false
   },
   "outputs": [
    {
     "name": "stdout",
     "output_type": "stream",
     "text": [
      "Funktion:\n"
     ]
    },
    {
     "data": {
      "text/latex": [
       "$$f=\\frac{26 N}{M} p s$$"
      ],
      "text/plain": [
       "<IPython.core.display.Math object>"
      ]
     },
     "metadata": {},
     "output_type": "display_data"
    },
    {
     "name": "stdout",
     "output_type": "stream",
     "text": [
      "Messwerte:\n"
     ]
    },
    {
     "data": {
      "text/latex": [
       "$$s=2.77e-29\\pm0$$"
      ],
      "text/plain": [
       "<IPython.core.display.Math object>"
      ]
     },
     "metadata": {},
     "output_type": "display_data"
    },
    {
     "data": {
      "text/latex": [
       "$$M=9.27\\pm3e-30$$"
      ],
      "text/plain": [
       "<IPython.core.display.Math object>"
      ]
     },
     "metadata": {},
     "output_type": "display_data"
    },
    {
     "data": {
      "text/latex": [
       "$$p=7860\\pm0$$"
      ],
      "text/plain": [
       "<IPython.core.display.Math object>"
      ]
     },
     "metadata": {},
     "output_type": "display_data"
    },
    {
     "data": {
      "text/latex": [
       "$$N=2.687e+25\\pm0$$"
      ],
      "text/plain": [
       "<IPython.core.display.Math object>"
      ]
     },
     "metadata": {},
     "output_type": "display_data"
    },
    {
     "name": "stdout",
     "output_type": "stream",
     "text": [
      "Absoluter Fehler:\n"
     ]
    },
    {
     "data": {
      "text/latex": [
       "$$\\Delta f=26 \\sqrt{\\frac{1}{M^{4}} \\left(M^{2} \\left(N^{2} \\Delta p^{2} s^{2} + N^{2} \\Delta s^{2} p^{2} + \\Delta N^{2} p^{2} s^{2}\\right) + N^{2} \\Delta M^{2} p^{2} s^{2}\\right)}$$"
      ],
      "text/plain": [
       "<IPython.core.display.Math object>"
      ]
     },
     "metadata": {},
     "output_type": "display_data"
    },
    {
     "name": "stdout",
     "output_type": "stream",
     "text": [
      "Relativer Fehler:\n"
     ]
    },
    {
     "data": {
      "text/latex": [
       "$$\\Delta f/f=26 \\sqrt{\\frac{1}{M^{4}} \\left(M^{2} \\left(N^{2} \\Delta p^{2} s^{2} + N^{2} \\Delta s^{2} p^{2} + \\Delta N^{2} p^{2} s^{2}\\right) + N^{2} \\Delta M^{2} p^{2} s^{2}\\right)}$$"
      ],
      "text/plain": [
       "<IPython.core.display.Math object>"
      ]
     },
     "metadata": {},
     "output_type": "display_data"
    },
    {
     "data": {
      "text/latex": [
       "$$f= 16.408300 \\pm 0.000000$$"
      ],
      "text/plain": [
       "<IPython.core.display.Math object>"
      ]
     },
     "metadata": {},
     "output_type": "display_data"
    },
    {
     "data": {
      "text/latex": [
       "$$f=  16.41 \\pm    0.0 \\%$$"
      ],
      "text/plain": [
       "<IPython.core.display.Math object>"
      ]
     },
     "metadata": {},
     "output_type": "display_data"
    }
   ],
   "source": [
    "print('Funktion:')\n",
    "display(Math('f='+sp.latex(funktion)))\n",
    "\n",
    "print('Messwerte:')\n",
    "for i in range(len(variablen)):\n",
    "    display(Math(str(variablen[i])+'='+str(variablen_werte[i])+'\\pm'+\n",
    "                str(fehler_werte[i])))\n",
    "print('Absoluter Fehler:')\n",
    "display(Math(r\"\\Delta f=\"+sp.latex(fehler_abs).replace('d',r'\\Delta ')))\n",
    "print('Relativer Fehler:')\n",
    "display(Math(r\"\\Delta f/f=\"+sp.latex(fehler_abs).replace('d',r'\\Delta ')))\n",
    "display(Math('f= %2.6f \\pm %2.6f' %(funktions_wert,sp.sqrt(err2))))\n",
    "display(Math('f= %6.2f \\pm %6.1f %s' %(funktions_wert,sp.sqrt(err2)/\n",
    "                                      funktions_wert*100,'\\%')))"
   ]
  },
  {
   "cell_type": "code",
   "execution_count": null,
   "metadata": {
    "collapsed": true
   },
   "outputs": [],
   "source": []
  }
 ],
 "metadata": {
  "anaconda-cloud": {},
  "kernelspec": {
   "display_name": "Python [conda root]",
   "language": "python",
   "name": "conda-root-py"
  },
  "language_info": {
   "codemirror_mode": {
    "name": "ipython",
    "version": 3
   },
   "file_extension": ".py",
   "mimetype": "text/x-python",
   "name": "python",
   "nbconvert_exporter": "python",
   "pygments_lexer": "ipython3",
   "version": "3.5.2"
  }
 },
 "nbformat": 4,
 "nbformat_minor": 1
}
