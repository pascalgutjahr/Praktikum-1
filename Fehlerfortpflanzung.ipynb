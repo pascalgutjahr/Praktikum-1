{
 "cells": [
  {
   "cell_type": "code",
   "execution_count": 2,
   "metadata": {
    "collapsed": false
   },
   "outputs": [],
   "source": [
    "import sympy as sp\n",
    "from IPython.display import display, Math, Latex"
   ]
  },
  {
   "cell_type": "code",
   "execution_count": 3,
   "metadata": {
    "collapsed": false
   },
   "outputs": [],
   "source": [
    "h,r,T = sp.symbols('h r T') #Variablennamen einsetzen 'd' ist reserviert\n",
    "variablen = [h,r,T]\n",
    "variablen_werte = [2.8,4.2,2.4]\n",
    "fehler_werte = [0.3,0.2,0.1]"
   ]
  },
  {
   "cell_type": "code",
   "execution_count": 4,
   "metadata": {
    "collapsed": true
   },
   "outputs": [],
   "source": [
    "funktion = (h*r**2*sp.sqrt(T))"
   ]
  },
  {
   "cell_type": "code",
   "execution_count": 5,
   "metadata": {
    "collapsed": false
   },
   "outputs": [],
   "source": [
    "fehler = 0\n",
    "fehlersymbole =[]\n",
    "ableitungen_quadr = []\n",
    "\n",
    "for var in variablen:\n",
    "    d = sp.symbols('d' + var.name)\n",
    "    fehlersymbole.append(d)\n",
    "    partial = sp.diff(funktion, var) * d\n",
    "    ableitungen_quadr.append(partial**2)\n",
    "    fehler = fehler + partial**2\n",
    "    \n",
    "fehler_abs=sp.simplify(sp.sqrt(fehler))\n",
    "fehler_rel=sp.simplify(sp.sqrt(fehler/funktion**2))"
   ]
  },
  {
   "cell_type": "code",
   "execution_count": 6,
   "metadata": {
    "collapsed": true
   },
   "outputs": [],
   "source": [
    "funktions_wert=sp.Subs(funktion,variablen,variablen_werte).doit()\n",
    "err1=sp.Subs(fehler,variablen,variablen_werte).doit()\n",
    "err2=sp.Subs(err1,fehlersymbole,fehler_werte).doit()"
   ]
  },
  {
   "cell_type": "code",
   "execution_count": 7,
   "metadata": {
    "collapsed": false
   },
   "outputs": [
    {
     "name": "stdout",
     "output_type": "stream",
     "text": [
      "Funktion:\n"
     ]
    },
    {
     "data": {
      "text/latex": [
       "$$f=\\sqrt{T} h r^{2}$$"
      ],
      "text/plain": [
       "<IPython.core.display.Math object>"
      ]
     },
     "metadata": {},
     "output_type": "display_data"
    },
    {
     "name": "stdout",
     "output_type": "stream",
     "text": [
      "Messwerte:\n"
     ]
    },
    {
     "data": {
      "text/latex": [
       "$$h=2.8\\pm0.3$$"
      ],
      "text/plain": [
       "<IPython.core.display.Math object>"
      ]
     },
     "metadata": {},
     "output_type": "display_data"
    },
    {
     "data": {
      "text/latex": [
       "$$r=4.2\\pm0.2$$"
      ],
      "text/plain": [
       "<IPython.core.display.Math object>"
      ]
     },
     "metadata": {},
     "output_type": "display_data"
    },
    {
     "data": {
      "text/latex": [
       "$$T=2.4\\pm0.1$$"
      ],
      "text/plain": [
       "<IPython.core.display.Math object>"
      ]
     },
     "metadata": {},
     "output_type": "display_data"
    },
    {
     "name": "stdout",
     "output_type": "stream",
     "text": [
      "Absoluter Fehler:\n"
     ]
    },
    {
     "data": {
      "text/latex": [
       "$$\\Delta f=\\frac{1}{2} \\sqrt{\\frac{r^{2}}{T} \\left(4 T^{2} \\left(\\Delta h^{2} r^{2} + 4 \\Delta r^{2} h^{2}\\right) + \\Delta T^{2} h^{2} r^{2}\\right)}$$"
      ],
      "text/plain": [
       "<IPython.core.display.Math object>"
      ]
     },
     "metadata": {},
     "output_type": "display_data"
    },
    {
     "name": "stdout",
     "output_type": "stream",
     "text": [
      "Relativer Fehler:\n"
     ]
    },
    {
     "data": {
      "text/latex": [
       "$$\\Delta f/f=\\frac{1}{2} \\sqrt{\\frac{r^{2}}{T} \\left(4 T^{2} \\left(\\Delta h^{2} r^{2} + 4 \\Delta r^{2} h^{2}\\right) + \\Delta T^{2} h^{2} r^{2}\\right)}$$"
      ],
      "text/plain": [
       "<IPython.core.display.Math object>"
      ]
     },
     "metadata": {},
     "output_type": "display_data"
    },
    {
     "data": {
      "text/latex": [
       "$$f=  76.52 \\pm  11.08$$"
      ],
      "text/plain": [
       "<IPython.core.display.Math object>"
      ]
     },
     "metadata": {},
     "output_type": "display_data"
    },
    {
     "data": {
      "text/latex": [
       "$$f=  76.52 \\pm   14.5 \\%$$"
      ],
      "text/plain": [
       "<IPython.core.display.Math object>"
      ]
     },
     "metadata": {},
     "output_type": "display_data"
    }
   ],
   "source": [
    "print('Funktion:')\n",
    "display(Math('f='+sp.latex(funktion)))\n",
    "print('Messwerte:')\n",
    "for i in range(len(variablen)):\n",
    "    display(Math(str(variablen[i])+'='+str(variablen_werte[i])+'\\pm'+\n",
    "                str(fehler_werte[i])))\n",
    "print('Absoluter Fehler:')\n",
    "display(Math(r\"\\Delta f=\"+sp.latex(fehler_abs).replace('d',r'\\Delta ')))\n",
    "print('Relativer Fehler:')\n",
    "display(Math(r\"\\Delta f/f=\"+sp.latex(fehler_abs).replace('d',r'\\Delta ')))\n",
    "display(Math('f= %6.2f \\pm %6.2f' %(funktions_wert,sp.sqrt(err2))))\n",
    "display(Math('f= %6.2f \\pm %6.1f %s' %(funktions_wert,sp.sqrt(err2)/\n",
    "                                      funktions_wert*100,'\\%')))"
   ]
  },
  {
   "cell_type": "code",
   "execution_count": null,
   "metadata": {
    "collapsed": true
   },
   "outputs": [],
   "source": []
  }
 ],
 "metadata": {
  "anaconda-cloud": {},
  "kernelspec": {
   "display_name": "Python [conda root]",
   "language": "python",
   "name": "conda-root-py"
  },
  "language_info": {
   "codemirror_mode": {
    "name": "ipython",
    "version": 3
   },
   "file_extension": ".py",
   "mimetype": "text/x-python",
   "name": "python",
   "nbconvert_exporter": "python",
   "pygments_lexer": "ipython3",
   "version": "3.5.2"
  }
 },
 "nbformat": 4,
 "nbformat_minor": 1
}
