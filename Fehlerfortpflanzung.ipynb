{
 "cells": [
  {
   "cell_type": "code",
   "execution_count": 25,
   "metadata": {
    "collapsed": false
   },
   "outputs": [],
   "source": [
    "import sympy as sp\n",
    "from IPython.display import display, Math, Latex"
   ]
  },
  {
   "cell_type": "code",
   "execution_count": 26,
   "metadata": {
    "collapsed": false
   },
   "outputs": [],
   "source": [
    "DR, R, F, Q= sp.symbols('DR R F Q') #Variablennamen einsetzen 'd' ist reserviert\n",
    "variablen = [DR,R,F,Q]\n",
    "variablen_werte = [45e-3,1e3,86.6e-6,7.857428e-6]\n",
    "fehler_werte = [16e-3,0,0,0]"
   ]
  },
  {
   "cell_type": "code",
   "execution_count": 27,
   "metadata": {
    "collapsed": false
   },
   "outputs": [],
   "source": [
    "funktion = 2*(DR/R)*(F/Q)"
   ]
  },
  {
   "cell_type": "code",
   "execution_count": 28,
   "metadata": {
    "collapsed": false
   },
   "outputs": [],
   "source": [
    "fehler = 0\n",
    "fehlersymbole =[]\n",
    "ableitungen_quadr = []\n",
    "\n",
    "for var in variablen:\n",
    "    d = sp.symbols('d' + var.name)\n",
    "    fehlersymbole.append(d)\n",
    "    partial = sp.diff(funktion, var) * d\n",
    "    ableitungen_quadr.append(partial**2)\n",
    "    fehler = fehler + partial**2\n",
    "    \n",
    "fehler_abs=sp.simplify(sp.sqrt(fehler))\n",
    "fehler_rel=sp.simplify(sp.sqrt(fehler/funktion**2))"
   ]
  },
  {
   "cell_type": "code",
   "execution_count": 29,
   "metadata": {
    "collapsed": true
   },
   "outputs": [],
   "source": [
    "funktions_wert=sp.Subs(funktion,variablen,variablen_werte).doit()\n",
    "err1=sp.Subs(fehler,variablen,variablen_werte).doit()\n",
    "err2=sp.Subs(err1,fehlersymbole,fehler_werte).doit()"
   ]
  },
  {
   "cell_type": "code",
   "execution_count": 30,
   "metadata": {
    "collapsed": false
   },
   "outputs": [
    {
     "name": "stdout",
     "output_type": "stream",
     "text": [
      "Funktion:\n"
     ]
    },
    {
     "data": {
      "text/latex": [
       "$$f=\\frac{2 DR F}{Q R}$$"
      ],
      "text/plain": [
       "<IPython.core.display.Math object>"
      ]
     },
     "metadata": {},
     "output_type": "display_data"
    },
    {
     "name": "stdout",
     "output_type": "stream",
     "text": [
      "Messwerte:\n"
     ]
    },
    {
     "data": {
      "text/latex": [
       "$$DR=0.045\\pm0.016$$"
      ],
      "text/plain": [
       "<IPython.core.display.Math object>"
      ]
     },
     "metadata": {},
     "output_type": "display_data"
    },
    {
     "data": {
      "text/latex": [
       "$$R=1000.0\\pm0$$"
      ],
      "text/plain": [
       "<IPython.core.display.Math object>"
      ]
     },
     "metadata": {},
     "output_type": "display_data"
    },
    {
     "data": {
      "text/latex": [
       "$$F=8.66e-05\\pm0$$"
      ],
      "text/plain": [
       "<IPython.core.display.Math object>"
      ]
     },
     "metadata": {},
     "output_type": "display_data"
    },
    {
     "data": {
      "text/latex": [
       "$$Q=7.857428e-06\\pm0$$"
      ],
      "text/plain": [
       "<IPython.core.display.Math object>"
      ]
     },
     "metadata": {},
     "output_type": "display_data"
    },
    {
     "name": "stdout",
     "output_type": "stream",
     "text": [
      "Absoluter Fehler:\n"
     ]
    },
    {
     "data": {
      "text/latex": [
       "$$\\Delta f=2 \\sqrt{\\frac{1}{Q^{4} R^{4}} \\left(DR^{2} F^{2} Q^{2} \\Delta R^{2} + DR^{2} F^{2} R^{2} \\Delta Q^{2} + Q^{2} R^{2} \\left(DR^{2} \\Delta F^{2} + F^{2} \\Delta DR^{2}\\right)\\right)}$$"
      ],
      "text/plain": [
       "<IPython.core.display.Math object>"
      ]
     },
     "metadata": {},
     "output_type": "display_data"
    },
    {
     "name": "stdout",
     "output_type": "stream",
     "text": [
      "Relativer Fehler:\n"
     ]
    },
    {
     "data": {
      "text/latex": [
       "$$\\Delta f/f=2 \\sqrt{\\frac{1}{Q^{4} R^{4}} \\left(DR^{2} F^{2} Q^{2} \\Delta R^{2} + DR^{2} F^{2} R^{2} \\Delta Q^{2} + Q^{2} R^{2} \\left(DR^{2} \\Delta F^{2} + F^{2} \\Delta DR^{2}\\right)\\right)}$$"
      ],
      "text/plain": [
       "<IPython.core.display.Math object>"
      ]
     },
     "metadata": {},
     "output_type": "display_data"
    },
    {
     "data": {
      "text/latex": [
       "$$f= 0.000992 \\pm 0.000353$$"
      ],
      "text/plain": [
       "<IPython.core.display.Math object>"
      ]
     },
     "metadata": {},
     "output_type": "display_data"
    },
    {
     "data": {
      "text/latex": [
       "$$f=   0.00 \\pm   35.6 \\%$$"
      ],
      "text/plain": [
       "<IPython.core.display.Math object>"
      ]
     },
     "metadata": {},
     "output_type": "display_data"
    }
   ],
   "source": [
    "print('Funktion:')\n",
    "display(Math('f='+sp.latex(funktion)))\n",
    "\n",
    "print('Messwerte:')\n",
    "for i in range(len(variablen)):\n",
    "    display(Math(str(variablen[i])+'='+str(variablen_werte[i])+'\\pm'+\n",
    "                str(fehler_werte[i])))\n",
    "print('Absoluter Fehler:')\n",
    "display(Math(r\"\\Delta f=\"+sp.latex(fehler_abs).replace('d',r'\\Delta ')))\n",
    "print('Relativer Fehler:')\n",
    "display(Math(r\"\\Delta f/f=\"+sp.latex(fehler_abs).replace('d',r'\\Delta ')))\n",
    "display(Math('f= %6.6f \\pm %6.6f' %(funktions_wert,sp.sqrt(err2))))\n",
    "display(Math('f= %6.2f \\pm %6.1f %s' %(funktions_wert,sp.sqrt(err2)/\n",
    "                                      funktions_wert*100,'\\%')))"
   ]
  },
  {
   "cell_type": "code",
   "execution_count": null,
   "metadata": {
    "collapsed": true
   },
   "outputs": [],
   "source": []
  }
 ],
 "metadata": {
  "anaconda-cloud": {},
  "kernelspec": {
   "display_name": "Python [conda root]",
   "language": "python",
   "name": "conda-root-py"
  },
  "language_info": {
   "codemirror_mode": {
    "name": "ipython",
    "version": 3
   },
   "file_extension": ".py",
   "mimetype": "text/x-python",
   "name": "python",
   "nbconvert_exporter": "python",
   "pygments_lexer": "ipython3",
   "version": "3.5.2"
  }
 },
 "nbformat": 4,
 "nbformat_minor": 1
}
